{
 "cells": [
  {
   "cell_type": "markdown",
   "id": "c49ce741",
   "metadata": {},
   "source": [
    "# INTERNSHIP ASSIGNMENT PRODUCT RECOMMENDATION\n",
    "Option 3: Recommendation\n",
    "Complexity: Intermediate \n",
    "Task: Recommend item to the given customer id for a given date.\n",
    "User Story: User should be able to provide a Customer ID and Date, and program should be able to recommend item to be purchased# "
   ]
  },
  {
   "cell_type": "markdown",
   "id": "7e30c91d",
   "metadata": {},
   "source": [
    "# Explaination of Problem \n",
    "\n",
    "\n",
    "Problem Explaination:\n",
    "This problem involves creating a program to recommend an item to a customer based on their customer ID and a specific date. The program needs access to relevant data that includes information about customers, items, and historical purchasing patterns. The user story describes the desired functionality from the user's perspective, and the program should provide a relevant and personalized recommendation based on the customer's preferences or historical buying behavior.\n",
    "\n",
    "\n",
    "\n",
    "# Explaination of Approach\n",
    "\n",
    "The code implements a product recommendation system based on customer ID and recommendation date. Here is how it works:\n",
    "\n",
    "1. The dataset is loaded from an Excel file and prepared by removing any missing values.\n",
    "\n",
    "2. The user provides the customer ID and recommendation date as input.\n",
    "\n",
    "3. The dataset is filtered to retrieve the relevant data for the given customer and date.\n",
    "\n",
    "4. If no data is found for the specified customer and date, a message is displayed indicating the absence of relevant information.\n",
    "\n",
    "5. If data is available, the unique product descriptions of the purchased items by the customer are extracted.\n",
    "\n",
    "6. The code applies K-Means clustering to identify similar products based on their descriptions.\n",
    "\n",
    "7. To perform clustering, the product descriptions are transformed into a sparse matrix representation using TF-IDF vectorization.\n",
    "\n",
    "8. K-Means clustering is performed on the entire set of product descriptions. The goal is to group similar products together.\n",
    "\n",
    "9. The cluster labels for the purchased products are obtained based on the trained K-Means model.\n",
    "\n",
    "10. Similar products are identified by retrieving other products belonging to the same clusters as the purchased items.\n",
    "\n",
    "11. The recommended products are compiled by combining the products from the identified clusters, ensuring there are no duplicates.\n",
    "\n",
    "12. If no recommended products are found, a message is displayed to indicate that there are no recommendations available.\n",
    "\n",
    "13. If there are recommended products, they are displayed to the user.\n",
    "\n",
    "By utilizing K-Means clustering on the entire set of product descriptions, the code groups similar products together and recommends items that are similar to those purchased by the customer on the specified date."
   ]
  },
  {
   "cell_type": "markdown",
   "id": "cdc7dfff",
   "metadata": {},
   "source": [
    "# Import Libraries\n"
   ]
  },
  {
   "cell_type": "code",
   "execution_count": 1,
   "id": "e2918ed3",
   "metadata": {},
   "outputs": [],
   "source": [
    "#This cell imports the necessary libraries for data manipulation, TF-IDF vectorization, and K-Means clustering.\n",
    "import pandas as pd\n",
    "from sklearn.feature_extraction.text import TfidfVectorizer\n",
    "from sklearn.cluster import KMeans\n"
   ]
  },
  {
   "cell_type": "markdown",
   "id": "e44655f4",
   "metadata": {},
   "source": [
    "# Read and Preprocess the Dataset"
   ]
  },
  {
   "cell_type": "code",
   "execution_count": 4,
   "id": "2c6e45da",
   "metadata": {},
   "outputs": [
    {
     "name": "stdout",
     "output_type": "stream",
     "text": [
      "  InvoiceNo StockCode                          Description  Quantity  \\\n",
      "0    536365    85123A   WHITE HANGING HEART T-LIGHT HOLDER         6   \n",
      "1    536365     71053                  WHITE METAL LANTERN         6   \n",
      "2    536365    84406B       CREAM CUPID HEARTS COAT HANGER         8   \n",
      "3    536365    84029G  KNITTED UNION FLAG HOT WATER BOTTLE         6   \n",
      "4    536365    84029E       RED WOOLLY HOTTIE WHITE HEART.         6   \n",
      "5    536365     22752         SET 7 BABUSHKA NESTING BOXES         2   \n",
      "6    536365     21730    GLASS STAR FROSTED T-LIGHT HOLDER         6   \n",
      "7    536366     22633               HAND WARMER UNION JACK         6   \n",
      "8    536366     22632            HAND WARMER RED POLKA DOT         6   \n",
      "9    536367     84879        ASSORTED COLOUR BIRD ORNAMENT        32   \n",
      "\n",
      "          InvoiceDate  UnitPrice  CustomerID         Country  \n",
      "0 2010-12-01 08:26:00       2.55     17850.0  United Kingdom  \n",
      "1 2010-12-01 08:26:00       3.39     17850.0  United Kingdom  \n",
      "2 2010-12-01 08:26:00       2.75     17850.0  United Kingdom  \n",
      "3 2010-12-01 08:26:00       3.39     17850.0  United Kingdom  \n",
      "4 2010-12-01 08:26:00       3.39     17850.0  United Kingdom  \n",
      "5 2010-12-01 08:26:00       7.65     17850.0  United Kingdom  \n",
      "6 2010-12-01 08:26:00       4.25     17850.0  United Kingdom  \n",
      "7 2010-12-01 08:28:00       1.85     17850.0  United Kingdom  \n",
      "8 2010-12-01 08:28:00       1.85     17850.0  United Kingdom  \n",
      "9 2010-12-01 08:34:00       1.69     13047.0  United Kingdom  \n"
     ]
    }
   ],
   "source": [
    "# Read the dataset from an Excel file\n",
    "data = pd.read_excel('Online Retail.xlsx')\n",
    "\n",
    "# Preprocess the dataset\n",
    "data = data.dropna()\n",
    "\n",
    "# Read the first 10 elements\n",
    "print(data.head(10))\n"
   ]
  },
  {
   "cell_type": "markdown",
   "id": "56cb773b",
   "metadata": {},
   "source": [
    "# User Input\n",
    "This cell prompts the user to enter the customer ID and recommendation date."
   ]
  },
  {
   "cell_type": "code",
   "execution_count": 3,
   "id": "39a51499",
   "metadata": {},
   "outputs": [
    {
     "name": "stdout",
     "output_type": "stream",
     "text": [
      "Enter the Customer ID: 17850\n",
      "Enter the Recommendation Date (dd/mm/yy): 01/12/10\n"
     ]
    }
   ],
   "source": [
    "# User input for customer ID and recommendation date\n",
    "customer_id = input(\"Enter the Customer ID: \")\n",
    "recommendation_date = input(\"Enter the Recommendation Date (dd/mm/yy): \")\n"
   ]
  },
  {
   "cell_type": "markdown",
   "id": "cc61a092",
   "metadata": {},
   "source": [
    "# Filter Dataset and Extract Purchased Product Descriptions\n",
    "This cell filters the dataset based on the given customer ID and checks if there is any data available for that customer. It also extracts the unique product descriptions of the purchased products by the customer.\n"
   ]
  },
  {
   "cell_type": "code",
   "execution_count": 5,
   "id": "429c3898",
   "metadata": {},
   "outputs": [],
   "source": [
    "# Filter dataset for the given customer ID and check customer data\n",
    "customer_data = data[data['CustomerID'] == int(customer_id)]\n",
    "\n",
    "if customer_data.empty:\n",
    "    print(\"No data found for the given customer ID.\")\n",
    "else:\n",
    "    # Get the product descriptions of the purchased products by the customer\n",
    "    purchased_product_descriptions = customer_data['Description'].unique()\n"
   ]
  },
  {
   "cell_type": "markdown",
   "id": "14a808d4",
   "metadata": {},
   "source": [
    "# TF-IDF Vectorization\n",
    "This cell creates a sparse matrix representation of all product descriptions in the dataset using TF-IDF vectorization.\n",
    " "
   ]
  },
  {
   "cell_type": "code",
   "execution_count": 6,
   "id": "168f17c3",
   "metadata": {},
   "outputs": [],
   "source": [
    "    # Create a sparse matrix of product descriptions using TF-IDF vectorization\n",
    "    vectorizer = TfidfVectorizer()\n",
    "    tfidf_matrix = vectorizer.fit_transform(data['Description'])\n"
   ]
  },
  {
   "cell_type": "markdown",
   "id": "5798a205",
   "metadata": {},
   "source": [
    "# Apply K-Means Clustering and Obtain Cluster Labels for Purchased Products\n",
    "This cell applies K-Means clustering on the sparse matrix to group similar products and obtains the cluster labels for the purchased products by the customer."
   ]
  },
  {
   "cell_type": "code",
   "execution_count": null,
   "id": "b6021902",
   "metadata": {},
   "outputs": [],
   "source": [
    "# Apply K-Means clustering to group similar products\n",
    "num_clusters = 5  # Number of clusters for K-Means\n",
    "kmeans = KMeans(n_clusters=num_clusters, random_state=42)\n",
    "kmeans.fit(tfidf_matrix)\n",
    "\n",
    "# Get the cluster labels for the purchased products\n",
    "purchased_product_labels = kmeans.predict(vectorizer.transform(purchased_product_descriptions))\n"
   ]
  },
  {
   "cell_type": "markdown",
   "id": "34bb1053",
   "metadata": {},
   "source": [
    "In the above code, K-Means clustering is applied on the sparse matrix to group similar products. The specified number of clusters (5 in this case) is used. Then, the cluster labels are predicted for the purchased products by the customer using the trained K-Means model.\n",
    "\n",
    "\n",
    "\n",
    "\n"
   ]
  },
  {
   "cell_type": "markdown",
   "id": "749ace39",
   "metadata": {},
   "source": [
    "# Find Products in Same Clusters\n",
    "This cell finds products in the same clusters as the purchased products.\n"
   ]
  },
  {
   "cell_type": "code",
   "execution_count": null,
   "id": "73f9fbb4",
   "metadata": {},
   "outputs": [],
   "source": [
    "    # Find products in the same cluster as the purchased products\n",
    "    recommended_products = []\n",
    "    for label in purchased_product_labels:\n",
    "        cluster_products = data[kmeans.labels_ == label]['Description'].unique()\n",
    "        recommended_products.extend(cluster_products)\n",
    "\n",
    "    recommended_products = list(set(recommended_products))  # Remove duplicates\n"
   ]
  },
  {
   "cell_type": "markdown",
   "id": "736b029f",
   "metadata": {},
   "source": [
    "# Display Recommended Products\n",
    "\n",
    "This cell displays the recommended products\n"
   ]
  },
  {
   "cell_type": "code",
   "execution_count": null,
   "id": "088d2a47",
   "metadata": {},
   "outputs": [],
   "source": [
    "    if len(recommended_products) == 0:\n",
    "        print(\"No recommended products found.\")\n",
    "    else:\n",
    "        # Display the recommended products\n",
    "        print(\"Recommended Products:\")\n",
    "        for product in recommended_products:\n",
    "            print(f\"- {product}\")\n"
   ]
  },
  {
   "cell_type": "markdown",
   "id": "126d5632",
   "metadata": {},
   "source": [
    "The code applies K-Means clustering on the whole dataset's product descriptions and recommends similar products to the customer based on the clusters to which their purchased products belong."
   ]
  },
  {
   "cell_type": "code",
   "execution_count": null,
   "id": "1907203a",
   "metadata": {},
   "outputs": [],
   "source": []
  }
 ],
 "metadata": {
  "kernelspec": {
   "display_name": "Python 3 (ipykernel)",
   "language": "python",
   "name": "python3"
  },
  "language_info": {
   "codemirror_mode": {
    "name": "ipython",
    "version": 3
   },
   "file_extension": ".py",
   "mimetype": "text/x-python",
   "name": "python",
   "nbconvert_exporter": "python",
   "pygments_lexer": "ipython3",
   "version": "3.9.12"
  }
 },
 "nbformat": 4,
 "nbformat_minor": 5
}
